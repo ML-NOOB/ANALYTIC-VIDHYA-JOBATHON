{
 "cells": [
  {
   "cell_type": "code",
   "execution_count": 51,
   "id": "0b205e99-069c-4f83-b5b3-d028598671bc",
   "metadata": {},
   "outputs": [],
   "source": [
    "import numpy as np\n",
    "import pandas as pd\n",
    "from sklearn.preprocessing import StandardScaler\n",
    "from sklearn.linear_model import LinearRegression\n",
    "from sklearn.metrics import mean_squared_error, r2_score\n",
    "from sklearn.model_selection import train_test_split\n",
    "from sklearn.neural_network import MLPRegressor\n",
    "from sklearn.ensemble import RandomForestRegressor"
   ]
  },
  {
   "cell_type": "markdown",
   "id": "ebd0463e-1a64-4ce9-840d-9d5f67499708",
   "metadata": {},
   "source": [
    "# PROBLEM STATEMENT\n",
    "ABC is an online content sharing platform that enables users to create, upload and share the content in the form of videos. It includes videos from different genres like entertainment, education, sports, technology and so on. The maximum duration of video is 10 minutes.\n",
    "\n",
    "Users can like, comment and share the videos on the platform. \n",
    "\n",
    "Based on the user’s interaction with the videos, engagement score is assigned to the video with respect to each user. Engagement score defines how engaging the content of the video is. \n",
    "\n",
    "Understanding the engagement score of the video improves the user’s interaction with the platform. It defines the type of content that is appealing to the user and engages the larger audience."
   ]
  },
  {
   "cell_type": "code",
   "execution_count": 52,
   "id": "882382c1-0e99-4487-8ca3-efa0164de5ad",
   "metadata": {},
   "outputs": [],
   "source": [
    "train = pd.read_csv('train.csv')\n",
    "test = pd.read_csv('test.csv')"
   ]
  },
  {
   "cell_type": "markdown",
   "id": "8700b356-d42e-4c74-976a-0c2ecd49132d",
   "metadata": {},
   "source": [
    "Inspecting the Data Set to look for missing values or anomalies\n",
    "Dataset.describe() gives summary statistics for data set.\n",
    "We have to look out for minimum and maximum values to look for anomalies, what we are looking for is sudden change or something more than 2 standdard deviation away from mean, especially when its unexpected.\n",
    "\n"
   ]
  },
  {
   "cell_type": "code",
   "execution_count": 53,
   "id": "15147890-d62b-41c1-83c3-c769c4bf3942",
   "metadata": {},
   "outputs": [
    {
     "data": {
      "text/html": [
       "<div>\n",
       "<style scoped>\n",
       "    .dataframe tbody tr th:only-of-type {\n",
       "        vertical-align: middle;\n",
       "    }\n",
       "\n",
       "    .dataframe tbody tr th {\n",
       "        vertical-align: top;\n",
       "    }\n",
       "\n",
       "    .dataframe thead th {\n",
       "        text-align: right;\n",
       "    }\n",
       "</style>\n",
       "<table border=\"1\" class=\"dataframe\">\n",
       "  <thead>\n",
       "    <tr style=\"text-align: right;\">\n",
       "      <th></th>\n",
       "      <th>row_id</th>\n",
       "      <th>user_id</th>\n",
       "      <th>category_id</th>\n",
       "      <th>video_id</th>\n",
       "      <th>age</th>\n",
       "      <th>followers</th>\n",
       "      <th>views</th>\n",
       "      <th>engagement_score</th>\n",
       "    </tr>\n",
       "  </thead>\n",
       "  <tbody>\n",
       "    <tr>\n",
       "      <th>count</th>\n",
       "      <td>89197.000000</td>\n",
       "      <td>89197.000000</td>\n",
       "      <td>89197.000000</td>\n",
       "      <td>89197.000000</td>\n",
       "      <td>89197.000000</td>\n",
       "      <td>89197.000000</td>\n",
       "      <td>89197.000000</td>\n",
       "      <td>89197.000000</td>\n",
       "    </tr>\n",
       "    <tr>\n",
       "      <th>mean</th>\n",
       "      <td>44599.000000</td>\n",
       "      <td>13881.909806</td>\n",
       "      <td>18.323733</td>\n",
       "      <td>77.715383</td>\n",
       "      <td>24.848616</td>\n",
       "      <td>252.460172</td>\n",
       "      <td>502.980268</td>\n",
       "      <td>3.487797</td>\n",
       "    </tr>\n",
       "    <tr>\n",
       "      <th>std</th>\n",
       "      <td>25749.100318</td>\n",
       "      <td>8005.582771</td>\n",
       "      <td>11.675154</td>\n",
       "      <td>48.469656</td>\n",
       "      <td>8.955535</td>\n",
       "      <td>46.094468</td>\n",
       "      <td>268.569482</td>\n",
       "      <td>0.863498</td>\n",
       "    </tr>\n",
       "    <tr>\n",
       "      <th>min</th>\n",
       "      <td>1.000000</td>\n",
       "      <td>1.000000</td>\n",
       "      <td>1.000000</td>\n",
       "      <td>1.000000</td>\n",
       "      <td>10.000000</td>\n",
       "      <td>160.000000</td>\n",
       "      <td>30.000000</td>\n",
       "      <td>0.000000</td>\n",
       "    </tr>\n",
       "    <tr>\n",
       "      <th>25%</th>\n",
       "      <td>22300.000000</td>\n",
       "      <td>6945.000000</td>\n",
       "      <td>8.000000</td>\n",
       "      <td>34.000000</td>\n",
       "      <td>18.000000</td>\n",
       "      <td>230.000000</td>\n",
       "      <td>229.000000</td>\n",
       "      <td>2.900000</td>\n",
       "    </tr>\n",
       "    <tr>\n",
       "      <th>50%</th>\n",
       "      <td>44599.000000</td>\n",
       "      <td>13892.000000</td>\n",
       "      <td>16.000000</td>\n",
       "      <td>76.000000</td>\n",
       "      <td>23.000000</td>\n",
       "      <td>240.000000</td>\n",
       "      <td>467.000000</td>\n",
       "      <td>3.710000</td>\n",
       "    </tr>\n",
       "    <tr>\n",
       "      <th>75%</th>\n",
       "      <td>66898.000000</td>\n",
       "      <td>20819.000000</td>\n",
       "      <td>26.000000</td>\n",
       "      <td>120.000000</td>\n",
       "      <td>32.000000</td>\n",
       "      <td>280.000000</td>\n",
       "      <td>714.000000</td>\n",
       "      <td>4.150000</td>\n",
       "    </tr>\n",
       "    <tr>\n",
       "      <th>max</th>\n",
       "      <td>89197.000000</td>\n",
       "      <td>27734.000000</td>\n",
       "      <td>47.000000</td>\n",
       "      <td>175.000000</td>\n",
       "      <td>68.000000</td>\n",
       "      <td>360.000000</td>\n",
       "      <td>1000.000000</td>\n",
       "      <td>5.000000</td>\n",
       "    </tr>\n",
       "  </tbody>\n",
       "</table>\n",
       "</div>"
      ],
      "text/plain": [
       "             row_id       user_id   category_id      video_id           age  \\\n",
       "count  89197.000000  89197.000000  89197.000000  89197.000000  89197.000000   \n",
       "mean   44599.000000  13881.909806     18.323733     77.715383     24.848616   \n",
       "std    25749.100318   8005.582771     11.675154     48.469656      8.955535   \n",
       "min        1.000000      1.000000      1.000000      1.000000     10.000000   \n",
       "25%    22300.000000   6945.000000      8.000000     34.000000     18.000000   \n",
       "50%    44599.000000  13892.000000     16.000000     76.000000     23.000000   \n",
       "75%    66898.000000  20819.000000     26.000000    120.000000     32.000000   \n",
       "max    89197.000000  27734.000000     47.000000    175.000000     68.000000   \n",
       "\n",
       "          followers         views  engagement_score  \n",
       "count  89197.000000  89197.000000      89197.000000  \n",
       "mean     252.460172    502.980268          3.487797  \n",
       "std       46.094468    268.569482          0.863498  \n",
       "min      160.000000     30.000000          0.000000  \n",
       "25%      230.000000    229.000000          2.900000  \n",
       "50%      240.000000    467.000000          3.710000  \n",
       "75%      280.000000    714.000000          4.150000  \n",
       "max      360.000000   1000.000000          5.000000  "
      ]
     },
     "execution_count": 53,
     "metadata": {},
     "output_type": "execute_result"
    }
   ],
   "source": [
    "train.describe() "
   ]
  },
  {
   "cell_type": "code",
   "execution_count": 54,
   "id": "f6a18fe5-7d17-4642-9031-1b9c51108603",
   "metadata": {},
   "outputs": [
    {
     "data": {
      "text/html": [
       "<div>\n",
       "<style scoped>\n",
       "    .dataframe tbody tr th:only-of-type {\n",
       "        vertical-align: middle;\n",
       "    }\n",
       "\n",
       "    .dataframe tbody tr th {\n",
       "        vertical-align: top;\n",
       "    }\n",
       "\n",
       "    .dataframe thead th {\n",
       "        text-align: right;\n",
       "    }\n",
       "</style>\n",
       "<table border=\"1\" class=\"dataframe\">\n",
       "  <thead>\n",
       "    <tr style=\"text-align: right;\">\n",
       "      <th></th>\n",
       "      <th>row_id</th>\n",
       "      <th>user_id</th>\n",
       "      <th>category_id</th>\n",
       "      <th>video_id</th>\n",
       "      <th>age</th>\n",
       "      <th>followers</th>\n",
       "      <th>views</th>\n",
       "    </tr>\n",
       "  </thead>\n",
       "  <tbody>\n",
       "    <tr>\n",
       "      <th>count</th>\n",
       "      <td>11121.000000</td>\n",
       "      <td>11121.000000</td>\n",
       "      <td>11121.000000</td>\n",
       "      <td>11121.000000</td>\n",
       "      <td>11121.000000</td>\n",
       "      <td>11121.000000</td>\n",
       "      <td>11121.000000</td>\n",
       "    </tr>\n",
       "    <tr>\n",
       "      <th>mean</th>\n",
       "      <td>94758.000000</td>\n",
       "      <td>13825.707400</td>\n",
       "      <td>15.666487</td>\n",
       "      <td>79.742559</td>\n",
       "      <td>24.854150</td>\n",
       "      <td>249.691574</td>\n",
       "      <td>454.959986</td>\n",
       "    </tr>\n",
       "    <tr>\n",
       "      <th>std</th>\n",
       "      <td>3210.500506</td>\n",
       "      <td>8001.221954</td>\n",
       "      <td>10.313259</td>\n",
       "      <td>48.702501</td>\n",
       "      <td>8.953976</td>\n",
       "      <td>38.511469</td>\n",
       "      <td>249.759038</td>\n",
       "    </tr>\n",
       "    <tr>\n",
       "      <th>min</th>\n",
       "      <td>89198.000000</td>\n",
       "      <td>2.000000</td>\n",
       "      <td>1.000000</td>\n",
       "      <td>1.000000</td>\n",
       "      <td>10.000000</td>\n",
       "      <td>160.000000</td>\n",
       "      <td>44.000000</td>\n",
       "    </tr>\n",
       "    <tr>\n",
       "      <th>25%</th>\n",
       "      <td>91978.000000</td>\n",
       "      <td>6881.000000</td>\n",
       "      <td>8.000000</td>\n",
       "      <td>39.000000</td>\n",
       "      <td>18.000000</td>\n",
       "      <td>230.000000</td>\n",
       "      <td>229.000000</td>\n",
       "    </tr>\n",
       "    <tr>\n",
       "      <th>50%</th>\n",
       "      <td>94758.000000</td>\n",
       "      <td>13857.000000</td>\n",
       "      <td>12.000000</td>\n",
       "      <td>80.000000</td>\n",
       "      <td>23.000000</td>\n",
       "      <td>240.000000</td>\n",
       "      <td>369.000000</td>\n",
       "    </tr>\n",
       "    <tr>\n",
       "      <th>75%</th>\n",
       "      <td>97538.000000</td>\n",
       "      <td>20763.000000</td>\n",
       "      <td>25.000000</td>\n",
       "      <td>121.000000</td>\n",
       "      <td>32.000000</td>\n",
       "      <td>270.000000</td>\n",
       "      <td>662.000000</td>\n",
       "    </tr>\n",
       "    <tr>\n",
       "      <th>max</th>\n",
       "      <td>100318.000000</td>\n",
       "      <td>27734.000000</td>\n",
       "      <td>46.000000</td>\n",
       "      <td>174.000000</td>\n",
       "      <td>68.000000</td>\n",
       "      <td>360.000000</td>\n",
       "      <td>990.000000</td>\n",
       "    </tr>\n",
       "  </tbody>\n",
       "</table>\n",
       "</div>"
      ],
      "text/plain": [
       "              row_id       user_id   category_id      video_id           age  \\\n",
       "count   11121.000000  11121.000000  11121.000000  11121.000000  11121.000000   \n",
       "mean    94758.000000  13825.707400     15.666487     79.742559     24.854150   \n",
       "std      3210.500506   8001.221954     10.313259     48.702501      8.953976   \n",
       "min     89198.000000      2.000000      1.000000      1.000000     10.000000   \n",
       "25%     91978.000000   6881.000000      8.000000     39.000000     18.000000   \n",
       "50%     94758.000000  13857.000000     12.000000     80.000000     23.000000   \n",
       "75%     97538.000000  20763.000000     25.000000    121.000000     32.000000   \n",
       "max    100318.000000  27734.000000     46.000000    174.000000     68.000000   \n",
       "\n",
       "          followers         views  \n",
       "count  11121.000000  11121.000000  \n",
       "mean     249.691574    454.959986  \n",
       "std       38.511469    249.759038  \n",
       "min      160.000000     44.000000  \n",
       "25%      230.000000    229.000000  \n",
       "50%      240.000000    369.000000  \n",
       "75%      270.000000    662.000000  \n",
       "max      360.000000    990.000000  "
      ]
     },
     "execution_count": 54,
     "metadata": {},
     "output_type": "execute_result"
    }
   ],
   "source": [
    "test.describe()"
   ]
  },
  {
   "cell_type": "markdown",
   "id": "46614755-20da-4b86-962a-713d0d44b468",
   "metadata": {},
   "source": [
    "After seeing different quartiles and max as well as min values no anomally detected.\n",
    "Also dataset is clean and doesn't require much cleaning."
   ]
  },
  {
   "cell_type": "code",
   "execution_count": 55,
   "id": "88bc2c52-0573-46ad-a96f-123814c9e82b",
   "metadata": {},
   "outputs": [
    {
     "data": {
      "text/plain": [
       "row_id              0\n",
       "user_id             0\n",
       "category_id         0\n",
       "video_id            0\n",
       "age                 0\n",
       "gender              0\n",
       "profession          0\n",
       "followers           0\n",
       "views               0\n",
       "engagement_score    0\n",
       "dtype: int64"
      ]
     },
     "execution_count": 55,
     "metadata": {},
     "output_type": "execute_result"
    }
   ],
   "source": [
    "train.isnull().sum()"
   ]
  },
  {
   "cell_type": "markdown",
   "id": "daba7233-fff6-41c7-89bf-9a553e5bdb3c",
   "metadata": {},
   "source": [
    "# DEFINING THE PROBLEM:-\n",
    "Engagement with  video or any content is a joint product of both User and the content.\n",
    "Engagement score is calculated based on users interaction with the content.\n",
    "Certain users engage more with the content in comparison to other users.\n",
    "Also certain content get more engagement in comparison to other content. Example:controverisial videos attract greater attention.\n",
    "So lets try to figure out key determinant of engagement score:\n",
    "1)Past engagement score of users(mapped with help of USER_ID)\n",
    "2)Past engagement with a particular video(Mapped with Video_ID)\n",
    "Infact user_Id and video_Id cover all data aboutnan individual and a video.\n",
    "We use other demographic/video data to refer to or categorise an user, while user_id directly captures it.\n",
    "\n",
    "Also The values with which we encode capture mean of past behaviour\n",
    "\n",
    "So why use other variables?\n",
    "Unless we use other demogrpahic data our model would be fitted only for a particular set of users and won't accomdate new users,s o when user ID or video id is absent our model won't be cluless.\n",
    "\n",
    "So we are going to treat user id , video_id,video_category,gender and Profession as categorical variables.\n",
    "\n",
    "\n"
   ]
  },
  {
   "cell_type": "code",
   "execution_count": 56,
   "id": "21c1418c-6b95-41a3-a0f6-a623da9e9db9",
   "metadata": {},
   "outputs": [
    {
     "name": "stdout",
     "output_type": "stream",
     "text": [
      "The number of unique users are 27734 ,number of unique videos are 175 and unique video categories are \t47\n"
     ]
    }
   ],
   "source": [
    "uniq_users= len(pd.unique(train['user_id']))\n",
    "uniq_videos = len(pd.unique(train['video_id']))\n",
    "uniq_categories = len(pd.unique(train['category_id']))\n",
    "print('The number of unique users are {0} ,number of unique videos are {1} and unique video categories are \\t{2}'.format(uniq_users,uniq_videos,uniq_categories))"
   ]
  },
  {
   "cell_type": "markdown",
   "id": "68ea9176-11e3-4b13-887b-573f4e9ad1b7",
   "metadata": {},
   "source": [
    "The test set also asks us to predict for same users, videos and video categories.\n",
    "\n",
    "Since the number of categorical values are large we are going to do target encoding otherwise number of categorical variables would become unnecessary large.\n",
    "It's better to encode in new columns as we have to use same values in test file.\n"
   ]
  },
  {
   "cell_type": "code",
   "execution_count": 57,
   "id": "54f4e5ce-3429-4f5c-b1bb-2dad3679dfc1",
   "metadata": {
    "tags": []
   },
   "outputs": [],
   "source": [
    "df_user = train.groupby('user_id')['engagement_score'].mean()\n",
    "df_user = df_user.reset_index()   \n",
    "df_user_std = train.groupby(['user_id','category_id'])['engagement_score'].mean()\n",
    "df_user_std = df_user_std.reset_index()\n",
    "df_video_id =  train.groupby('video_id')['engagement_score'].mean() \n",
    "df_video_id = df_video_id.reset_index()\n",
    "df_video_categories =  train.groupby('category_id')['engagement_score'].mean() \n",
    "df_video_categories = df_video_categories.reset_index()\n",
    "    "
   ]
  },
  {
   "cell_type": "markdown",
   "id": "37c6c1c7-2e93-4b44-870b-d0a3b7c9ec7f",
   "metadata": {},
   "source": [
    "We should add white noise to data to avoid the problem of overfitting,however adding noise decreases model efficiency as seen from the result of test dataset.\n",
    "\n",
    "So the approach is avoided. Nevertheless it's a best practice, in case of targeted encoding.\n",
    "\n",
    "Also we need to encode training and test set in the same manner, so that fitting the model and predicting results becomes easy.\n"
   ]
  },
  {
   "cell_type": "code",
   "execution_count": 58,
   "id": "55bcbb76-d8ce-48e9-a99c-d3423494b7e2",
   "metadata": {},
   "outputs": [],
   "source": [
    "train =train.merge(df_user, on='user_id',how = 'left')\n",
    "test =test.merge(df_user, on='user_id',how = 'left')"
   ]
  },
  {
   "cell_type": "code",
   "execution_count": 59,
   "id": "29c67e0d-bd6a-4387-a951-e7716219f596",
   "metadata": {},
   "outputs": [],
   "source": [
    "test.rename(columns = {'engagement_score':'user_id_encoded'}, inplace = True)\n",
    "train.rename(columns = {'engagement_score':'user_id_encoded'}, inplace = True)"
   ]
  },
  {
   "cell_type": "code",
   "execution_count": 60,
   "id": "b732737f-cd53-4e28-9e21-3e610906511f",
   "metadata": {},
   "outputs": [],
   "source": [
    "train= train.merge(df_video_id, on='video_id',how = 'left')\n",
    "\n",
    "\n",
    "train.rename(columns = {'engagement_score':'video_id_encoded'}, inplace = True)"
   ]
  },
  {
   "cell_type": "code",
   "execution_count": 61,
   "id": "1053aff0-5456-4ea2-b090-1c45f14ef288",
   "metadata": {},
   "outputs": [],
   "source": [
    "test= test.merge(df_video_id, on='video_id',how = 'left')\n",
    "\n",
    "test.rename(columns = {'engagement_score':'video_id_encoded'}, inplace = True)"
   ]
  },
  {
   "cell_type": "code",
   "execution_count": 62,
   "id": "4a21bd8a-4d04-4d17-9e16-0908c2505348",
   "metadata": {},
   "outputs": [],
   "source": [
    "train= train.merge(df_video_categories, on='category_id',how = 'left')\n",
    "test= test.merge(df_video_categories, on='category_id',how = 'left')"
   ]
  },
  {
   "cell_type": "code",
   "execution_count": 63,
   "id": "56b01141-4b29-4b15-9c8c-31e1e7fdbf8d",
   "metadata": {},
   "outputs": [],
   "source": [
    "train.rename(columns = {'engagement_score_y':'video_category_encoded'}, inplace = True)\n",
    "test.rename(columns = {'engagement_score':'video_category_encoded'}, inplace = True)"
   ]
  },
  {
   "cell_type": "code",
   "execution_count": 64,
   "id": "69cd3531-fb6e-4ee4-8750-f4dabcb2d88b",
   "metadata": {},
   "outputs": [],
   "source": [
    "df_user_std.rename(columns = {'engagement_score':'user_std_dev'}, inplace = True)"
   ]
  },
  {
   "cell_type": "code",
   "execution_count": 65,
   "id": "aeb1a966-330c-413a-b518-5f87231da476",
   "metadata": {},
   "outputs": [
    {
     "data": {
      "text/html": [
       "<div>\n",
       "<style scoped>\n",
       "    .dataframe tbody tr th:only-of-type {\n",
       "        vertical-align: middle;\n",
       "    }\n",
       "\n",
       "    .dataframe tbody tr th {\n",
       "        vertical-align: top;\n",
       "    }\n",
       "\n",
       "    .dataframe thead th {\n",
       "        text-align: right;\n",
       "    }\n",
       "</style>\n",
       "<table border=\"1\" class=\"dataframe\">\n",
       "  <thead>\n",
       "    <tr style=\"text-align: right;\">\n",
       "      <th></th>\n",
       "      <th>user_id</th>\n",
       "      <th>category_id</th>\n",
       "      <th>user_std_dev</th>\n",
       "    </tr>\n",
       "  </thead>\n",
       "  <tbody>\n",
       "    <tr>\n",
       "      <th>0</th>\n",
       "      <td>1</td>\n",
       "      <td>1</td>\n",
       "      <td>-0.243207</td>\n",
       "    </tr>\n",
       "    <tr>\n",
       "      <th>1</th>\n",
       "      <td>1</td>\n",
       "      <td>2</td>\n",
       "      <td>-0.708722</td>\n",
       "    </tr>\n",
       "    <tr>\n",
       "      <th>2</th>\n",
       "      <td>2</td>\n",
       "      <td>3</td>\n",
       "      <td>0.120850</td>\n",
       "    </tr>\n",
       "    <tr>\n",
       "      <th>3</th>\n",
       "      <td>2</td>\n",
       "      <td>4</td>\n",
       "      <td>-0.859915</td>\n",
       "    </tr>\n",
       "    <tr>\n",
       "      <th>4</th>\n",
       "      <td>3</td>\n",
       "      <td>5</td>\n",
       "      <td>1.010103</td>\n",
       "    </tr>\n",
       "    <tr>\n",
       "      <th>...</th>\n",
       "      <td>...</td>\n",
       "      <td>...</td>\n",
       "      <td>...</td>\n",
       "    </tr>\n",
       "    <tr>\n",
       "      <th>49885</th>\n",
       "      <td>27731</td>\n",
       "      <td>46</td>\n",
       "      <td>-1.281664</td>\n",
       "    </tr>\n",
       "    <tr>\n",
       "      <th>49886</th>\n",
       "      <td>27732</td>\n",
       "      <td>29</td>\n",
       "      <td>0.461034</td>\n",
       "    </tr>\n",
       "    <tr>\n",
       "      <th>49887</th>\n",
       "      <td>27733</td>\n",
       "      <td>8</td>\n",
       "      <td>-0.726627</td>\n",
       "    </tr>\n",
       "    <tr>\n",
       "      <th>49888</th>\n",
       "      <td>27733</td>\n",
       "      <td>13</td>\n",
       "      <td>-1.818797</td>\n",
       "    </tr>\n",
       "    <tr>\n",
       "      <th>49889</th>\n",
       "      <td>27734</td>\n",
       "      <td>19</td>\n",
       "      <td>0.789282</td>\n",
       "    </tr>\n",
       "  </tbody>\n",
       "</table>\n",
       "<p>49890 rows × 3 columns</p>\n",
       "</div>"
      ],
      "text/plain": [
       "       user_id  category_id  user_std_dev\n",
       "0            1            1     -0.243207\n",
       "1            1            2     -0.708722\n",
       "2            2            3      0.120850\n",
       "3            2            4     -0.859915\n",
       "4            3            5      1.010103\n",
       "...        ...          ...           ...\n",
       "49885    27731           46     -1.281664\n",
       "49886    27732           29      0.461034\n",
       "49887    27733            8     -0.726627\n",
       "49888    27733           13     -1.818797\n",
       "49889    27734           19      0.789282\n",
       "\n",
       "[49890 rows x 3 columns]"
      ]
     },
     "execution_count": 65,
     "metadata": {},
     "output_type": "execute_result"
    }
   ],
   "source": [
    "df_user_std['user_std_dev'] = (df_user_std['user_std_dev'] - df_user_std['user_std_dev'].mean())/(df_user_std['user_std_dev'].std())\n",
    "df_user_std"
   ]
  },
  {
   "cell_type": "markdown",
   "id": "ab6f907b-6b47-4a84-9d72-b5648d7be988",
   "metadata": {},
   "source": [
    "We are Done with target encoding and now coming to categorical variable encoding keeping in mind the dummy variable trap"
   ]
  },
  {
   "cell_type": "code",
   "execution_count": 66,
   "id": "faad7eaf-0f26-46d1-aec9-4fc8a89beb34",
   "metadata": {},
   "outputs": [],
   "source": [
    "train.loc[train['gender'] == 'Male', 'gender_encoded'] = 1\n",
    "train.loc[train['gender'] == 'Female', 'gender_encoded'] = 0\n",
    "test.loc[test['gender'] == 'Male', 'gender_encoded'] = 1\n",
    "test.loc[test['gender'] == 'Female', 'gender_encoded'] = 0"
   ]
  },
  {
   "cell_type": "code",
   "execution_count": 67,
   "id": "7ea87d0b-7069-4499-a085-58f5cf47c277",
   "metadata": {},
   "outputs": [],
   "source": [
    "train.loc[train['profession'] == 'Student', 'Student'] = 1\n",
    "train.loc[train['profession'] != 'Student', 'Student'] = 0\n",
    "test.loc[test['profession'] == 'Student', 'Student'] = 1\n",
    "test.loc[test['profession'] != 'Student', 'Student'] = 0"
   ]
  },
  {
   "cell_type": "code",
   "execution_count": 68,
   "id": "ad40ae8e-6a0c-4a62-b7a3-76ee44e3bdaa",
   "metadata": {},
   "outputs": [],
   "source": [
    "train.loc[train['profession'] == 'Working Professional', 'Working_professional'] = 1\n",
    "train.loc[train['profession'] != 'Working Professional', 'Working_professional'] = 0\n",
    "test.loc[test['profession'] == 'Working Professional', 'Working_professional'] = 1\n",
    "test.loc[test['profession'] != 'Working Professional', 'Working_professional'] = 0"
   ]
  },
  {
   "cell_type": "code",
   "execution_count": 69,
   "id": "6814be77-c291-4324-b686-58eaa03bc1f6",
   "metadata": {},
   "outputs": [],
   "source": [
    "train =train.merge(df_user_std, on='user_id',how = 'left')\n",
    "test =test.merge(df_user_std, on='user_id',how = 'left')\n",
    "train.rename(columns = {'engagement_score':'user_id_std'}, inplace = True)\n",
    "test.rename(columns = {'engagement_score':'user_id_std'}, inplace = True)"
   ]
  },
  {
   "cell_type": "code",
   "execution_count": 70,
   "id": "deb59230-0a56-4be1-b21f-7f5532bf461d",
   "metadata": {},
   "outputs": [
    {
     "data": {
      "text/plain": [
       "Index(['row_id', 'user_id', 'category_id_x', 'video_id', 'age', 'gender',\n",
       "       'profession', 'followers', 'views', 'engagement_score_x',\n",
       "       'video_category_encoded', 'video_id_encoded', 'user_id_std',\n",
       "       'gender_encoded', 'Student', 'Working_professional', 'category_id_y',\n",
       "       'user_std_dev'],\n",
       "      dtype='object')"
      ]
     },
     "execution_count": 70,
     "metadata": {},
     "output_type": "execute_result"
    }
   ],
   "source": [
    "train.columns"
   ]
  },
  {
   "cell_type": "markdown",
   "id": "4d8a94a0-e4dc-4c8f-b18e-7433d0d9c4e9",
   "metadata": {},
   "source": [
    "NOW THAT DATA OF TRINING SET IS CLEANED AND ENCODED, ITS BETTER TO SAVE IT IN A NEW CSV FILE FOR FURTHER MODEL FITTING"
   ]
  },
  {
   "cell_type": "code",
   "execution_count": 71,
   "id": "9e077b73-3972-4b56-9f2f-36ba8b7007c4",
   "metadata": {},
   "outputs": [],
   "source": [
    "train_new = pd.read_csv('train_new.csv') # better to save one copy in a csv file, easy to experiment\n",
    "test_new = pd.read_csv('test_new.csv')"
   ]
  },
  {
   "cell_type": "markdown",
   "id": "4c9f4563-a6a4-4032-a456-c147c660841d",
   "metadata": {},
   "source": [
    "Scale the non_categorical values to ensure better convergence."
   ]
  },
  {
   "cell_type": "code",
   "execution_count": 72,
   "id": "66342f59-70b1-4638-a493-9da266b03d4c",
   "metadata": {},
   "outputs": [],
   "source": [
    "Standard_scaler = StandardScaler() \n"
   ]
  },
  {
   "cell_type": "code",
   "execution_count": 73,
   "id": "e1165fb5-3d34-47dd-b40e-dcdd38f6cf4a",
   "metadata": {},
   "outputs": [],
   "source": [
    "train_new['age'] = Standard_scaler.fit_transform(train_new[['age']])\n",
    "train_new['followers'] =  Standard_scaler.fit_transform(train_new[['followers']])\n",
    "train_new['views'] =  Standard_scaler.fit_transform(train_new[['views']])\n",
    "train_new['user_id_encoded'] =  Standard_scaler.fit_transform(train_new[['user_id_encoded']])\n",
    "train_new['video_id_encoded'] =  Standard_scaler.fit_transform(train_new[['video_id_encoded']])\n",
    "train_new['video_category_encoded'] =  Standard_scaler.fit_transform(train_new[['video_category_encoded']])"
   ]
  },
  {
   "cell_type": "code",
   "execution_count": 74,
   "id": "d6426eb0-05bb-4911-bcbb-3cc3f5a10ad5",
   "metadata": {},
   "outputs": [],
   "source": [
    "test_new['age'] = Standard_scaler.fit_transform(test_new[['age']])\n",
    "test_new['followers'] =  Standard_scaler.fit_transform(test_new[['followers']])\n",
    "test_new['views'] =  Standard_scaler.fit_transform(test_new[['views']])\n",
    "test_new['user_id_encoded'] =  Standard_scaler.fit_transform(test_new[['user_id_encoded']])\n",
    "test_new['video_id_encoded'] =  Standard_scaler.fit_transform(test_new[['video_id_encoded']])\n",
    "test_new['video_category_encoded'] =  Standard_scaler.fit_transform(test_new[['video_category_encoded']])"
   ]
  },
  {
   "cell_type": "code",
   "execution_count": 75,
   "id": "cfb8c390-0dd2-4852-8a7e-f576feb94653",
   "metadata": {},
   "outputs": [],
   "source": [
    "train_new= train_new.merge(df_user_std, on='user_id',how = 'left')\n",
    "test_new= test_new.merge(df_user_std, on='user_id',how = 'left')"
   ]
  },
  {
   "cell_type": "markdown",
   "id": "78273f7d-c3ad-4795-b41b-aa50fb3222d8",
   "metadata": {},
   "source": [
    "DATAFRAME IS NOW SCALED\n",
    "TIME TO FIT THE MODELS AMD STUDY RELATIONSHIPS BETWEEN DATASETS"
   ]
  },
  {
   "cell_type": "code",
   "execution_count": 76,
   "id": "fb86e15b-875f-4d79-8c83-c5bed3b0f1b8",
   "metadata": {},
   "outputs": [
    {
     "data": {
      "text/plain": [
       "engagement_score          1.000000\n",
       "user_id_encoded           0.786260\n",
       "user_std_dev              0.634308\n",
       "gender_encoded            0.392167\n",
       "video_id_encoded          0.320661\n",
       "video_category_encoded    0.299665\n",
       "Student                   0.287719\n",
       "followers                 0.008562\n",
       "user_id                  -0.002606\n",
       "row_id                   -0.002870\n",
       "video_id                 -0.030906\n",
       "category_id_y            -0.050357\n",
       "views                    -0.093545\n",
       "category_id_x            -0.096454\n",
       "Working_professional     -0.222198\n",
       "age                      -0.231069\n",
       "Name: engagement_score, dtype: float64"
      ]
     },
     "execution_count": 76,
     "metadata": {},
     "output_type": "execute_result"
    }
   ],
   "source": [
    "train_new.corr().loc['engagement_score'].sort_values(ascending = False)"
   ]
  },
  {
   "cell_type": "markdown",
   "id": "9555f74e-f4d3-46db-87a7-75776fa00fdb",
   "metadata": {},
   "source": [
    "No surprises here as user id and video id show maximum correlation with engagement.\n",
    "Note:- gender is already covered by user id"
   ]
  },
  {
   "cell_type": "code",
   "execution_count": 77,
   "id": "ce24399f-f29c-4ee1-a197-f004e11d823b",
   "metadata": {},
   "outputs": [],
   "source": [
    "mu, sigma = 0, 0.2 # mean and standard deviation\n",
    "s = np.random.normal(mu, sigma, len(train_new))\n",
    "train_new['Modified engagement_Score'] = train_new['engagement_score'].values + s\n",
    "#"
   ]
  },
  {
   "cell_type": "code",
   "execution_count": null,
   "id": "a46f350e-c3a6-426e-942a-ea3142441814",
   "metadata": {},
   "outputs": [],
   "source": [
    "#Features = ['user_id_encoded','age','gender_encoded','Student','Working_professional','followers','video_category_encoded','video_id_encoded','views','followers','user_std_dev']\n",
    "Features = ['user_std_dev']\n",
    "x = df_user_std[Features].values\n",
    "y = df_user_std[['engagement_score']].values"
   ]
  },
  {
   "cell_type": "markdown",
   "id": "bd33a402-a332-4d2e-b819-cfdad62ee0d9",
   "metadata": {},
   "source": [
    "# Feature selection:-\n",
    "User_id alone gave R2 score of .37 in test variables.\n",
    "\n",
    "User_id + video_id explained 40% of variance\n",
    "\n",
    "Rest of the features account for very less improvement if any at all.\n",
    "\n",
    "\n",
    "# Model Slection:-\n",
    "After Going through a number of regression models from linear to neural networks. Three models which gave best performance were shortlisted.\n",
    "The three are:-\n",
    "1)Linear regression\n",
    "2)Neural network regressor\n",
    "3)Random forest regressor\n",
    "*Random Forest worked best on training data but was over fitted and performance degraded for testing data.\n",
    "\n",
    "*Linear regressor peroformed best on test data and was most cnsisitent. It showed acceptable bias and comparitively low variance.\n",
    "\n",
    "*Neural Network model showed low variance and acceptable bias, infact bias was lower than linear regression for training data. However it performed poorly for training data. \n",
    "# Why Linear regression?\n",
    "THe reason behind better performance of Linear regression over other algorithms can be attributed to the fact that dataset is comparitively small and spread over too many categories. This results in algorithms like Neural Networks failing to converge,Algorithms like random forest overfit the data wheras simple algorithm like Linear regression performs best for dataset.\n",
    "\n",
    "Linear regression did the best job and gave the best result"
   ]
  },
  {
   "cell_type": "code",
   "execution_count": 84,
   "id": "2841fd19-88bd-4784-ae39-d00ad1c684dc",
   "metadata": {},
   "outputs": [
    {
     "data": {
      "text/plain": [
       "0.6549083802710577"
      ]
     },
     "execution_count": 84,
     "metadata": {},
     "output_type": "execute_result"
    }
   ],
   "source": [
    "x_train,x_test,y_train,y_test = train_test_split(x,y, test_size = 0.05, random_state = 22)\n",
    "regressor1 = LinearRegression()\n",
    "regressor1.fit(x_train,y_train)\n",
    "y_pred = regressor1.predict(x_test)\n",
    "r2_score(y_test,y_pred)"
   ]
  },
  {
   "cell_type": "code",
   "execution_count": null,
   "id": "2223f7fb-0c51-4757-98c5-77b7c7266d15",
   "metadata": {},
   "outputs": [],
   "source": [
    "regr = MLPRegressor(random_state = 2, max_iter=1000)"
   ]
  },
  {
   "cell_type": "code",
   "execution_count": null,
   "id": "69174f78-e296-4f85-88eb-e9647a257cf9",
   "metadata": {},
   "outputs": [
    {
     "name": "stderr",
     "output_type": "stream",
     "text": [
      "C:\\Users\\shubh\\Downloads\\anaconda3\\lib\\site-packages\\sklearn\\utils\\validation.py:63: DataConversionWarning: A column-vector y was passed when a 1d array was expected. Please change the shape of y to (n_samples, ), for example using ravel().\n",
      "  return f(*args, **kwargs)\n"
     ]
    }
   ],
   "source": [
    "regr.fit(x_train,y_train)"
   ]
  },
  {
   "cell_type": "code",
   "execution_count": null,
   "id": "17145bb3-3258-47ae-8861-a764716f73bd",
   "metadata": {},
   "outputs": [],
   "source": [
    "y_pred = regr.predict(x_test)\n",
    "test_new['engagement_score']= pd.DataFrame(y_pred)\n",
    "submission = test_new[['row_id','engagement_score']]\n",
    "\n",
    "r2_score(y_test,y_pred)"
   ]
  },
  {
   "cell_type": "code",
   "execution_count": null,
   "id": "354b43b4-3540-45e9-b0fe-6dd07c7d732f",
   "metadata": {},
   "outputs": [],
   "source": [
    "regrf = RandomForestRegressor(n_estimators = 100,random_state = 0)\n",
    "regrf.fit(x,y)"
   ]
  },
  {
   "cell_type": "code",
   "execution_count": null,
   "id": "3f33f0a9-0213-4d21-9d70-15a1a32783cb",
   "metadata": {},
   "outputs": [],
   "source": [
    "y_pred = regrf.predict(x_test)\n",
    "r2_score(y_test,y_pred)"
   ]
  },
  {
   "cell_type": "code",
   "execution_count": null,
   "id": "604ad93c-3790-4409-bca1-57a3836b8c40",
   "metadata": {},
   "outputs": [],
   "source": [
    "x_test_leaderboard = test_new[Features].values"
   ]
  },
  {
   "cell_type": "code",
   "execution_count": null,
   "id": "defbf755-dad7-4ad6-a421-7c78f24d267b",
   "metadata": {},
   "outputs": [],
   "source": [
    "y_pred = regressor1.predict(x_test_leaderboard)\n",
    "test_new['engagement_score']= pd.DataFrame(y_pred)\n",
    "submission = test_new.loc[:,['row_id','engagement_score']]\n",
    "submission.to_csv('submission_Linear_regression.csv')"
   ]
  },
  {
   "cell_type": "code",
   "execution_count": null,
   "id": "877324ca-9c4e-4065-aa6c-ae9878fad05f",
   "metadata": {},
   "outputs": [],
   "source": [
    "y_pred = regr.predict(x_test_leaderboard)\n",
    "test_new['engagement_score']= pd.DataFrame(y_pred)\n",
    "submission = test_new.loc[:,['row_id','engagement_score']]\n",
    "submission.to_csv('submission_neural network.csv')"
   ]
  },
  {
   "cell_type": "code",
   "execution_count": null,
   "id": "f98baaed-ddec-440f-b300-448c6cc3a1ce",
   "metadata": {},
   "outputs": [],
   "source": [
    "#y_pred = regrf.predict(x_test_leaderboard)\n",
    "test_new['engagement_score']= pd.DataFrame(y_pred)\n",
    "submission = test_new.loc[:,['row_id','engagement_score']]\n",
    "submission.to_csv('submission_tree.csv')"
   ]
  },
  {
   "cell_type": "markdown",
   "id": "6be415e2-87e0-445a-93c2-7c4f78198c4d",
   "metadata": {},
   "source": [
    "Linear regression gave the best result"
   ]
  }
 ],
 "metadata": {
  "kernelspec": {
   "display_name": "Python 3 (ipykernel)",
   "language": "python",
   "name": "python3"
  },
  "language_info": {
   "codemirror_mode": {
    "name": "ipython",
    "version": 3
   },
   "file_extension": ".py",
   "mimetype": "text/x-python",
   "name": "python",
   "nbconvert_exporter": "python",
   "pygments_lexer": "ipython3",
   "version": "3.9.7"
  }
 },
 "nbformat": 4,
 "nbformat_minor": 5
}
